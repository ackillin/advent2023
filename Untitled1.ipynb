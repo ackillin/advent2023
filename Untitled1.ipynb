{
 "cells": [
  {
   "cell_type": "code",
   "execution_count": 6,
   "id": "c656d75b-4d3b-4f3c-bc6a-ae6a0ead9033",
   "metadata": {},
   "outputs": [],
   "source": [
    "import re"
   ]
  },
  {
   "cell_type": "code",
   "execution_count": 1,
   "id": "db3fe0dd-4fea-40d0-8e6f-df6a6a03cb97",
   "metadata": {},
   "outputs": [],
   "source": [
    "# Hashing Algorithm\n",
    "def get_hash(line):\n",
    "    total = 0\n",
    "    for let in line:\n",
    "        total = (total+ord(let)) * 17 % 256\n",
    "    return int(total)"
   ]
  },
  {
   "cell_type": "code",
   "execution_count": 2,
   "id": "5186f3fd-25c9-4e6d-9014-bdc8dfdb8339",
   "metadata": {},
   "outputs": [
    {
     "name": "stdout",
     "output_type": "stream",
     "text": [
      "part 1: 509152\n"
     ]
    }
   ],
   "source": [
    "print('part 1:',sum([get_hash(x)\n",
    "         for x in open('txt15.txt').readlines() for x in x.strip().split(',')]))"
   ]
  },
  {
   "cell_type": "code",
   "execution_count": 4,
   "id": "a2794ea4-6fce-4b7f-998e-5c7b0599a713",
   "metadata": {
    "editable": true,
    "slideshow": {
     "slide_type": ""
    },
    "tags": []
   },
   "outputs": [],
   "source": [
    "box = [{} for i in range(256)]\n",
    "u = lambda a: int(get_hash(a))"
   ]
  },
  {
   "cell_type": "code",
   "execution_count": 7,
   "id": "37e0a602-680c-4386-a524-0880e8b83110",
   "metadata": {
    "editable": true,
    "slideshow": {
     "slide_type": ""
    },
    "tags": []
   },
   "outputs": [],
   "source": [
    "for x in open('txt15.txt'):\n",
    "    for line in x.strip().split(','):\n",
    "        if '=' in line:\n",
    "            line = re.split(r'[=-]', line,1)\n",
    "            box[u(line[0])][line[0]] = int(line[1])\n",
    "        else:\n",
    "            line = re.split(r'[=-]', line,1)\n",
    "            if box[u(line[0])].get(line[0]):\n",
    "                box[u(line[0])].pop(line[0])"
   ]
  },
  {
   "cell_type": "code",
   "execution_count": 9,
   "id": "b2a565ab-6bbd-4fcb-9fe5-3245b3acdd4d",
   "metadata": {
    "editable": true,
    "slideshow": {
     "slide_type": ""
    },
    "tags": []
   },
   "outputs": [
    {
     "name": "stdout",
     "output_type": "stream",
     "text": [
      "244403\n"
     ]
    }
   ],
   "source": [
    "total = 0\n",
    "for counter, x  in enumerate(box):\n",
    "    counter +=1\n",
    "    for val_count, val in enumerate(x.values()):\n",
    "        val_count +=1\n",
    "        total += (counter * val_count * val)\n",
    "print(total)"
   ]
  },
  {
   "cell_type": "code",
   "execution_count": 11,
   "id": "2f0ebb84-ec60-4e0b-827a-13a1431e8df2",
   "metadata": {
    "editable": true,
    "slideshow": {
     "slide_type": ""
    },
    "tags": []
   },
   "outputs": [
    {
     "name": "stdout",
     "output_type": "stream",
     "text": [
      "[[2], [2, 4], [2, 4, 6], [2, 4, 6, 8], [2, 4, 6, 8, 10], [2, 4, 6, 8, 10, 12], [2, 4, 6, 8, 10, 12, 14], [2, 4, 6, 8, 10, 12, 14, 16], [2, 4, 6, 8, 10, 12, 14, 16, 18], [2, 4, 6, 8, 10, 12, 14, 16, 18, 20]]\n"
     ]
    }
   ],
   "source": [
    "print( [(v:=0) or [v:=(v+2) for c in range(s)]\n",
    "        for s in range(1,11)] )"
   ]
  },
  {
   "cell_type": "code",
   "execution_count": 14,
   "id": "2130aeb6-ebf1-4ddb-8f63-859496a982c2",
   "metadata": {},
   "outputs": [
    {
     "name": "stdout",
     "output_type": "stream",
     "text": [
      "[2, 4, 6, 8, 10, 12, 14, 16, 18, 20]\n"
     ]
    }
   ],
   "source": [
    "print( [(v:=0) or [v:=(v+2) for c in range(s)] and v\n",
    "        for s in range(1,11)] )"
   ]
  },
  {
   "cell_type": "code",
   "execution_count": 20,
   "id": "c5b7dc53-2663-42dd-a3e7-bf31376ae36e",
   "metadata": {},
   "outputs": [
    {
     "name": "stdout",
     "output_type": "stream",
     "text": [
      "2\n",
      "4\n",
      "6\n",
      "8\n",
      "10\n",
      "12\n",
      "14\n",
      "16\n",
      "18\n",
      "20\n"
     ]
    }
   ],
   "source": [
    "for s in range(1,11):\n",
    "     if (v := 0) or [v:= (v+2) for c in range(s)] and v:\n",
    "         print(v)"
   ]
  },
  {
   "cell_type": "code",
   "execution_count": null,
   "id": "943d377f-fc63-444a-94fb-2544d25fa9ce",
   "metadata": {},
   "outputs": [],
   "source": [
    "for s in range(1,11):"
   ]
  }
 ],
 "metadata": {
  "kernelspec": {
   "display_name": "Python 3 (ipykernel)",
   "language": "python",
   "name": "python3"
  },
  "language_info": {
   "codemirror_mode": {
    "name": "ipython",
    "version": 3
   },
   "file_extension": ".py",
   "mimetype": "text/x-python",
   "name": "python",
   "nbconvert_exporter": "python",
   "pygments_lexer": "ipython3",
   "version": "3.10.12"
  }
 },
 "nbformat": 4,
 "nbformat_minor": 5
}
